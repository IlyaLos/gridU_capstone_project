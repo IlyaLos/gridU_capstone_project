{
 "cells": [
  {
   "cell_type": "code",
   "execution_count": 1,
   "metadata": {
    "collapsed": true
   },
   "outputs": [],
   "source": [
    "import numpy as np\n",
    "import pandas as pd\n",
    "import matplotlib.pyplot as plt\n",
    "import nltk\n",
    "import string\n",
    "from nltk.stem.snowball import SnowballStemmer\n",
    "from scipy.stats.stats import pearsonr\n",
    "from nltk.corpus import stopwords\n",
    "\n",
    "%matplotlib inline\n",
    "\n",
    "stemmer = SnowballStemmer('english')\n",
    "printable = set(string.printable)\n",
    "stop_words = set(stopwords.words('english'))"
   ]
  },
  {
   "cell_type": "markdown",
   "metadata": {},
   "source": [
    "#Load data"
   ]
  },
  {
   "cell_type": "code",
   "execution_count": 2,
   "metadata": {},
   "outputs": [],
   "source": [
    "attributes = pd.read_csv('data/attributes.csv')\n",
    "train = pd.read_csv('data/train.csv')\n",
    "test = pd.read_csv('data/test.csv')\n",
    "description = pd.read_csv('data/product_descriptions.csv')"
   ]
  },
  {
   "cell_type": "markdown",
   "metadata": {},
   "source": [
    "Distribution of target value in train set "
   ]
  },
  {
   "cell_type": "code",
   "execution_count": 17,
   "metadata": {},
   "outputs": [
    {
     "data": {
      "image/png": "[encoded data removed]",
      "text/plain": [
       "<matplotlib.figure.Figure at 0x50136da0>"
      ]
     },
     "metadata": {},
     "output_type": "display_data"
    }
   ],
   "source": [
    "plt.hist(train['relevance'].tolist(), bins=50)\n",
    "plt.xticks([1.00, 1.33, 1.67, 2.00, 2.33, 2.67, 3.00])\n",
    "plt.xlabel('Relevance')\n",
    "plt.ylabel('Query count')\n",
    "plt.show()"
   ]
  },
  {
   "cell_type": "code",
   "execution_count": 18,
   "metadata": {},
   "outputs": [
    {
     "name": "stdout",
     "output_type": "stream",
     "text": [
      "3.00    19125\n2.33    16060\n2.67    15202\n2.00    11730\n1.67     6780\n1.33     3006\n1.00     2105\n2.50       19\n2.25       11\n2.75       11\n1.75        9\n1.50        5\n1.25        4\nName: relevance, dtype: int64\n"
     ]
    }
   ],
   "source": [
    "print train['relevance'].value_counts()"
   ]
  },
  {
   "cell_type": "markdown",
   "metadata": {},
   "source": [
    "Values [1.25, 1.50, 1.75, 2.25, 2.50, 2.75] are anomalies and should be deleted."
   ]
  },
  {
   "cell_type": "code",
   "execution_count": 34,
   "metadata": {},
   "outputs": [],
   "source": [
    "mask = np.logical_not(train['relevance'].isin([1.25, 1.50, 1.75, 2.25, 2.50, 2.75])).tolist()\n",
    "train = train[mask]"
   ]
  },
  {
   "cell_type": "code",
   "execution_count": 78,
   "metadata": {},
   "outputs": [],
   "source": [
    "#save updated train set\n",
    "train.to_csv('data/train.csv')"
   ]
  },
  {
   "cell_type": "markdown",
   "metadata": {},
   "source": [
    "Rest values [1.00, 1.33, 1.67, 2.00, 2.33, 2.67, 3.00] is [3, 4, 5, 6, 7, 8, 9] divided by 3. So it's sum of scores in range [1,3] from exactly 3 experts."
   ]
  },
  {
   "cell_type": "markdown",
   "metadata": {},
   "source": [
    "#Train and test sets"
   ]
  },
  {
   "cell_type": "markdown",
   "metadata": {},
   "source": [
    "Count of unique product ids"
   ]
  },
  {
   "cell_type": "code",
   "execution_count": 43,
   "metadata": {},
   "outputs": [
    {
     "name": "stdout",
     "output_type": "stream",
     "text": [
      "All product ids count is  124428\nTrain:  54635  unique product ids in  74008 rows.\nTest:  97460  unique product ids in  166693 rows.\n"
     ]
    }
   ],
   "source": [
    "print \"All product ids count is \", description.shape[0]\n",
    "print \"Train: \", len(train['product_uid'].unique()), \" unique product ids in \", train.shape[0], \"rows.\"\n",
    "print \"Test: \", len(test['product_uid'].unique()), \" unique product ids in \", test.shape[0], \"rows.\""
   ]
  },
  {
   "cell_type": "markdown",
   "metadata": {},
   "source": [
    "Each product apears in average 1 search query in train set and in average 2 search queries in test set."
   ]
  },
  {
   "cell_type": "markdown",
   "metadata": {},
   "source": [
    "Count of words in queries"
   ]
  },
  {
   "cell_type": "code",
   "execution_count": 42,
   "metadata": {},
   "outputs": [
    {
     "data": {
      "image/png": "[encoded data removed]",
      "text/plain": [
       "<matplotlib.figure.Figure at 0x385a65c0>"
      ]
     },
     "metadata": {},
     "output_type": "display_data"
    },
    {
     "data": {
      "image/png": "[encoded data removed]",
      "text/plain": [
       "<matplotlib.figure.Figure at 0x70732cc0>"
      ]
     },
     "metadata": {},
     "output_type": "display_data"
    }
   ],
   "source": [
    "plt.hist([len(nltk.word_tokenize(line)) for line in train['search_term']], bins=10, range=(1, 11))\n",
    "plt.xticks(range(1, 11, 1))\n",
    "plt.xlabel('Words count')\n",
    "plt.ylabel('Query count')\n",
    "plt.show()\n",
    "\n",
    "plt.hist([len(nltk.word_tokenize(line)) for line in test['search_term']], bins=10, range=(1, 11))\n",
    "plt.xticks(range(1, 11, 1))\n",
    "plt.xlabel('Words count')\n",
    "plt.ylabel('Query count')\n",
    "plt.show()"
   ]
  },
  {
   "cell_type": "markdown",
   "metadata": {},
   "source": [
    "Distributions looks same. Most search queries contain no more than 4 words."
   ]
  },
  {
   "cell_type": "markdown",
   "metadata": {},
   "source": [
    "#Description set"
   ]
  },
  {
   "cell_type": "markdown",
   "metadata": {},
   "source": [
    "Some descriptions contains part of html-code in the end. Let's find and delete that code."
   ]
  },
  {
   "cell_type": "code",
   "execution_count": 3,
   "metadata": {},
   "outputs": [
    {
     "name": "stderr",
     "output_type": "stream",
     "text": [
      "C:\\Anaconda2\\lib\\site-packages\\ipykernel_launcher.py:7: SettingWithCopyWarning: \nA value is trying to be set on a copy of a slice from a DataFrame\n\nSee the caveats in the documentation: http://pandas.pydata.org/pandas-docs/stable/indexing.html#indexing-view-versus-copy\n  import sys\n"
     ]
    },
    {
     "name": "stdout",
     "output_type": "stream",
     "text": [
      "252\n"
     ]
    }
   ],
   "source": [
    "count = 0\n",
    "\n",
    "for i in range(len(description)):\n",
    "     pos = description['product_description'][i].find(\"<\")\n",
    "     if pos != -1:\n",
    "         count += 1\n",
    "         description['product_description'][i] = description['product_description'][i][:pos]\n",
    "         \n",
    "print count"
   ]
  },
  {
   "cell_type": "markdown",
   "metadata": {},
   "source": [
    "We successfully delete html-code in 252 descriptions. "
   ]
  },
  {
   "cell_type": "code",
   "execution_count": null,
   "metadata": {},
   "outputs": [],
   "source": [
    "#save updated dataframe\n",
    "description.to_csv('data/product_descriptions.csv')"
   ]
  },
  {
   "cell_type": "code",
   "execution_count": 51,
   "metadata": {},
   "outputs": [
    {
     "data": {
      "image/png": "[encoded data removed]",
      "text/plain": [
       "<matplotlib.figure.Figure at 0x10b22ef0>"
      ]
     },
     "metadata": {},
     "output_type": "display_data"
    }
   ],
   "source": [
    "plt.hist([len(nltk.word_tokenize(line)) for line in description['product_description']], bins=100, range=(1,600))\n",
    "plt.xlabel('Words count')\n",
    "plt.ylabel('Products count')\n",
    "plt.show()"
   ]
  },
  {
   "cell_type": "markdown",
   "metadata": {},
   "source": [
    "Each description has in average 120-150 words."
   ]
  },
  {
   "cell_type": "markdown",
   "metadata": {},
   "source": [
    "#Attributes set"
   ]
  },
  {
   "cell_type": "code",
   "execution_count": 53,
   "metadata": {},
   "outputs": [
    {
     "name": "stdout",
     "output_type": "stream",
     "text": [
      "We have  2044803  attributes for  86264  different products.\n"
     ]
    }
   ],
   "source": [
    "print \"We have \", attributes.shape[0], \" attributes for \", len(attributes['product_uid'].unique()), \" different products.\""
   ]
  },
  {
   "cell_type": "markdown",
   "metadata": {},
   "source": [
    "Most frequency attributes"
   ]
  },
  {
   "cell_type": "code",
   "execution_count": 79,
   "metadata": {},
   "outputs": [
    {
     "name": "stdout",
     "output_type": "stream",
     "text": [
      "MFG Brand Name                 86250\nBullet02                       86248\nBullet03                       86226\nBullet04                       86174\nBullet01                       85940\nProduct Width (in.)            61137\nBullet05                       60529\nProduct Height (in.)           54698\nProduct Depth (in.)            53652\nProduct Weight (lb.)           45175\nBullet06                       44901\nColor Family                   41508\nBullet07                       34349\nMaterial                       31500\nColor/Finish                   28564\nBullet08                       26645\nCertifications and Listings    24583\nBullet09                       20567\nAssembled Height (in.)         18299\nAssembled Width (in.)          18263\nName: name, dtype: int64\n"
     ]
    }
   ],
   "source": [
    "most_freq_attributes = attributes['name'].value_counts()\n",
    "\n",
    "print most_freq_attributes.head(20)"
   ]
  },
  {
   "cell_type": "markdown",
   "metadata": {},
   "source": [
    "From relevance instruction we know that finding brand in search term is very important."
   ]
  },
  {
   "cell_type": "code",
   "execution_count": 61,
   "metadata": {},
   "outputs": [
    {
     "name": "stdout",
     "output_type": "stream",
     "text": [
      "Each product has no more than one brand name:"
     ]
    },
    {
     "name": "stdout",
     "output_type": "stream",
     "text": [
      " True\n"
     ]
    }
   ],
   "source": [
    "print \"Each product has no more than one brand name:\", len(attributes[attributes.name == \"MFG Brand Name\"].product_uid.unique()) == \\\n",
    "      attributes[attributes.name == \"MFG Brand Name\"].shape[0]"
   ]
  },
  {
   "cell_type": "code",
   "execution_count": 66,
   "metadata": {
    "collapsed": true
   },
   "outputs": [
    {
     "name": "stdout",
     "output_type": "stream",
     "text": [
      "We have brand name for 86250 products from  124428 ( 69.3 %)\n"
     ]
    }
   ],
   "source": [
    "print \"We have brand name for 86250 products from \", description.shape[0], \"(\", round(86250.0 / description.shape[0] * 100, 1), \"%)\""
   ]
  },
  {
   "cell_type": "code",
   "execution_count": 67,
   "metadata": {},
   "outputs": [
    {
     "name": "stdout",
     "output_type": "stream",
     "text": [
      "There are "
     ]
    },
    {
     "name": "stdout",
     "output_type": "stream",
     "text": [
      " 4290  different brand names.\n"
     ]
    }
   ],
   "source": [
    "print \"There are \", len(attributes[attributes.name == \"MFG Brand Name\"].value.unique()), \" different brand names.\""
   ]
  },
  {
   "cell_type": "markdown",
   "metadata": {},
   "source": [
    "Look at attributes with name BulletXX."
   ]
  },
  {
   "cell_type": "code",
   "execution_count": 71,
   "metadata": {
    "collapsed": false
   },
   "outputs": [
    {
     "name": "stdout",
     "output_type": "stream",
     "text": [
      "Bullet02        86248\nBullet03        86226\nBullet04        86174\nBullet01        85940\nBullet05        60529\nBullet06        44901\nBullet07        34349\nBullet08        26645\nBullet09        20567\nBullet10        14763\nBullet11        11784\nBullet12         8795\nBullet13         6348\nBullet14         3853\nBullet20         3120\nBullet15         2913\nBullet18         2859\nBullet16         1897\nBullet17         1069\nBullet21          486\nBullet19          286\nBullet22          163\nBullet Proof       52\nName: name, dtype: int64\n"
     ]
    }
   ],
   "source": [
    "mask = map(lambda x: bool(str(x).find(\"Bullet\") != -1), attributes['name'])\n",
    "print attributes[mask].name.value_counts()"
   ]
  },
  {
   "cell_type": "markdown",
   "metadata": {},
   "source": [
    "Each value contains some information of product like as product_description. But we should use this attributes with caution, because experts can't looked at any attributions."
   ]
  },
  {
   "cell_type": "markdown",
   "metadata": {},
   "source": [
    "Attributes for size"
   ]
  },
  {
   "cell_type": "code",
   "execution_count": 75,
   "metadata": {},
   "outputs": [
    {
     "name": "stdout",
     "output_type": "stream",
     "text": [
      "Product Width (in.)                   61137\nProduct Height (in.)                  54698\nProduct Depth (in.)                   53652\nAssembled Height (in.)                18299\nAssembled Width (in.)                 18263\nAssembled Depth (in.)                 18198\nProduct Length (in.)                  16705\nProduct Length (ft.)                   2241\nCord Length (ft.)                      1437\nCut-Out Left to Right Length (in.)     1410\nName: name, dtype: int64\n"
     ]
    }
   ],
   "source": [
    "mask = map(lambda x: bool(str(x).find(\"Width\") != -1 or str(x).find(\"Height\") != -1 \n",
    "                          or str(x).find(\"Depth\") != -1 or str(x).find(\"Length\") != -1), attributes['name'])\n",
    "print attributes[mask].name.value_counts().head(10)"
   ]
  },
  {
   "cell_type": "markdown",
   "metadata": {},
   "source": [
    "Attributes for color"
   ]
  },
  {
   "cell_type": "code",
   "execution_count": 76,
   "metadata": {},
   "outputs": [
    {
     "name": "stdout",
     "output_type": "stream",
     "text": [
      "Color Family                    41508\nColor/Finish                    28564\nColor                            6222\nColor/Finish Family              4630\nFixture Color/Finish             4119\nFixture Color/Finish Family      2256\nShade Color Family               2006\nActual Color Temperature (K)     1421\nColor Rendering Index            1118\nTop Color Family                  996\nName: name, dtype: int64\n"
     ]
    }
   ],
   "source": [
    "mask = map(lambda x: bool(str(x).find(\"Color\") != -1 or str(x).find(\"color\") != -1), attributes['name'])\n",
    "print attributes[mask].name.value_counts().head(10)"
   ]
  },
  {
   "cell_type": "markdown",
   "metadata": {},
   "source": [
    "Attributes for material"
   ]
  },
  {
   "cell_type": "code",
   "execution_count": 77,
   "metadata": {},
   "outputs": [
    {
     "name": "stdout",
     "output_type": "stream",
     "text": [
      "Material                       31500\nFrame Material                  2376\nTile Material                   1679\nCompatible Pipe Material        1674\nFastener/Connector Material     1586\nPaint/Stain Base Material       1557\nHousing Material                1500\nRug Material                    1111\nBacking material                1101\nHandle Material                 1086\nName: name, dtype: int64\n"
     ]
    }
   ],
   "source": [
    "mask = map(lambda x: bool(str(x).find(\"Material\") != -1 or str(x).find(\"material\") != -1), attributes['name'])\n",
    "print attributes[mask].name.value_counts().head(10)"
   ]
  }
 ],
 "metadata": {
  "kernelspec": {
   "display_name": "Python 2",
   "language": "python",
   "name": "python2"
  },
  "language_info": {
   "codemirror_mode": {
    "name": "ipython",
    "version": 2.0
   },
   "file_extension": ".py",
   "mimetype": "text/x-python",
   "name": "python",
   "nbconvert_exporter": "python",
   "pygments_lexer": "ipython2",
   "version": "2.7.6"
  }
 },
 "nbformat": 4,
 "nbformat_minor": 0
}