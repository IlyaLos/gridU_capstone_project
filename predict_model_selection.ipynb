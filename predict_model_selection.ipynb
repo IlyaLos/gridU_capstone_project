{
 "cells": [
  {
   "cell_type": "code",
   "execution_count": 1,
   "metadata": {
    "collapsed": true
   },
   "outputs": [],
   "source": [
    "import pandas as pd\n",
    "import matplotlib.pyplot as plt\n",
    "from sklearn import linear_model\n",
    "from sklearn.model_selection import cross_val_score\n",
    "from sklearn import ensemble\n",
    "from scipy.stats.stats import pearsonr\n",
    "from sklearn.svm import LinearSVR\n",
    "\n",
    "%matplotlib inline"
   ]
  },
  {
   "cell_type": "code",
   "execution_count": 2,
   "metadata": {},
   "outputs": [],
   "source": [
    "# read dataframes\n",
    "train = pd.read_csv('data/train.csv')\n",
    "test = pd.read_csv('data/test.csv')\n",
    "X_train = pd.read_csv('sel_X_train.csv')\n",
    "X_test = pd.read_csv('sel_X_test.csv')"
   ]
  },
  {
   "cell_type": "code",
   "execution_count": 3,
   "metadata": {
    "collapsed": true
   },
   "outputs": [],
   "source": [
    "# delete unused ids \n",
    "train.drop('Unnamed: 0', 1, inplace=True)\n",
    "X_train.drop('Unnamed: 0', 1, inplace=True)\n",
    "X_test.drop('Unnamed: 0', 1, inplace=True)"
   ]
  },
  {
   "cell_type": "code",
   "execution_count": 4,
   "metadata": {},
   "outputs": [],
   "source": [
    "# create target value\n",
    "y_train = train['relevance'].tolist()"
   ]
  },
  {
   "cell_type": "markdown",
   "metadata": {},
   "source": [
    "#Models testing"
   ]
  },
  {
   "cell_type": "markdown",
   "metadata": {},
   "source": [
    "For test each model apply cross_val_score with 10 folds."
   ]
  },
  {
   "cell_type": "code",
   "execution_count": 6,
   "metadata": {},
   "outputs": [
    {
     "name": "stdout",
     "output_type": "stream",
     "text": [
      "-0.409188530707\n"
     ]
    }
   ],
   "source": [
    "# Linear model with l2 regularization\n",
    "print cross_val_score(linear_model.Ridge(), X_train, y_train, cv = 10, scoring = 'neg_mean_absolute_error').mean()"
   ]
  },
  {
   "cell_type": "code",
   "execution_count": 7,
   "metadata": {},
   "outputs": [
    {
     "name": "stdout",
     "output_type": "stream",
     "text": [
      "-0.439455082754\n[-0.  0.  0.  0.  0.  0. -0.]\n"
     ]
    }
   ],
   "source": [
    "# Linear model with l2 regularization\n",
    "print cross_val_score(linear_model.Lasso(), X_train, y_train, cv = 10, scoring = 'neg_mean_absolute_error').mean()\n",
    "\n",
    "# And all coef equals zero\n",
    "model = linear_model.Lasso()\n",
    "model.fit(X_train, y_train)\n",
    "print model.coef_\n",
    "# It's not good information about our features"
   ]
  },
  {
   "cell_type": "code",
   "execution_count": 8,
   "metadata": {},
   "outputs": [
    {
     "name": "stdout",
     "output_type": "stream",
     "text": [
      "-0.405874490697\n"
     ]
    }
   ],
   "source": [
    "# linear svr\n",
    "print cross_val_score(LinearSVR(), X_train, y_train, cv=10, scoring='neg_mean_absolute_error').mean()"
   ]
  },
  {
   "cell_type": "code",
   "execution_count": 12,
   "metadata": {},
   "outputs": [
    {
     "name": "stdout",
     "output_type": "stream",
     "text": [
      "30 4"
     ]
    },
    {
     "name": "stdout",
     "output_type": "stream",
     "text": [
      " -0.403166858653\n30 5"
     ]
    },
    {
     "name": "stdout",
     "output_type": "stream",
     "text": [
      " -0.401711823048\n30 6"
     ]
    },
    {
     "name": "stdout",
     "output_type": "stream",
     "text": [
      " -0.40061236694\n30 7"
     ]
    },
    {
     "name": "stdout",
     "output_type": "stream",
     "text": [
      " -0.399968773154\n30 8"
     ]
    },
    {
     "name": "stdout",
     "output_type": "stream",
     "text": [
      " -0.399521811613\n40 4"
     ]
    },
    {
     "name": "stdout",
     "output_type": "stream",
     "text": [
      " -0.403188429154\n40 5"
     ]
    },
    {
     "name": "stdout",
     "output_type": "stream",
     "text": [
      " -0.401694958359\n40 6"
     ]
    },
    {
     "name": "stdout",
     "output_type": "stream",
     "text": [
      " -0.400562672731\n40 7"
     ]
    },
    {
     "name": "stdout",
     "output_type": "stream",
     "text": [
      " -0.399924677617\n40 8"
     ]
    },
    {
     "name": "stdout",
     "output_type": "stream",
     "text": [
      " -0.399457489107\n50 4"
     ]
    },
    {
     "name": "stdout",
     "output_type": "stream",
     "text": [
      " -0.403145173885\n50 5"
     ]
    },
    {
     "name": "stdout",
     "output_type": "stream",
     "text": [
      " -0.401661622795\n50 6"
     ]
    },
    {
     "name": "stdout",
     "output_type": "stream",
     "text": [
      " -0.40051506983\n50 7"
     ]
    },
    {
     "name": "stdout",
     "output_type": "stream",
     "text": [
      " -0.399895546761\n50 8"
     ]
    },
    {
     "name": "stdout",
     "output_type": "stream",
     "text": [
      " -0.399422614276\n60 4"
     ]
    },
    {
     "name": "stdout",
     "output_type": "stream",
     "text": [
      " -0.403126672843\n60 5"
     ]
    },
    {
     "name": "stdout",
     "output_type": "stream",
     "text": [
      " -0.401651069082\n60 6"
     ]
    },
    {
     "name": "stdout",
     "output_type": "stream",
     "text": [
      " -0.400495219567\n60 7"
     ]
    },
    {
     "name": "stdout",
     "output_type": "stream",
     "text": [
      " -0.399881373864\n60 8"
     ]
    },
    {
     "name": "stdout",
     "output_type": "stream",
     "text": [
      " -0.399388928011\n"
     ]
    }
   ],
   "source": [
    "# ensemble of decision trees\n",
    "for est_num in range(30, 70, 10):\n",
    "    for dep in range(4, 9, 1):\n",
    "        print est_num, dep, cross_val_score(ensemble.RandomForestRegressor(n_estimators = est_num, max_depth=dep, random_state=0), \n",
    "                                            X_train, y_train, cv=10, scoring = 'neg_mean_absolute_error').mean()"
   ]
  },
  {
   "cell_type": "markdown",
   "metadata": {},
   "source": [
    "Increasing number of tree decreases standard deviation, but much number of trees will slow down our model.\n",
    "Increasing max depth of trees leads to overfitting.\n",
    "\n",
    "Let's take number of trees equals 30 and max depth equals 6."
   ]
  },
  {
   "cell_type": "code",
   "execution_count": 13,
   "metadata": {},
   "outputs": [
    {
     "name": "stdout",
     "output_type": "stream",
     "text": [
      "-0.40061236694\n"
     ]
    }
   ],
   "source": [
    "# ensemble of decision trees\n",
    "print cross_val_score(ensemble.RandomForestRegressor(n_estimators=30, max_depth=6, random_state=0), \n",
    "                      X_train, y_train, cv=10, scoring='neg_mean_absolute_error').mean()"
   ]
  },
  {
   "cell_type": "markdown",
   "metadata": {},
   "source": [
    "But in test set model with parameters (50, 7) earn lower score."
   ]
  },
  {
   "cell_type": "code",
   "execution_count": 15,
   "metadata": {},
   "outputs": [
    {
     "name": "stdout",
     "output_type": "stream",
     "text": [
      "-0.399839824176\n"
     ]
    }
   ],
   "source": [
    "# ensemble of random forests with bagging\n",
    "print cross_val_score(ensemble.BaggingRegressor(ensemble.RandomForestRegressor(n_estimators=50, max_depth=7, \n",
    "                                                                               random_state=0), 50, random_state=0), \n",
    "                      X_train, y_train, cv=10, scoring='neg_mean_absolute_error').mean()"
   ]
  },
  {
   "cell_type": "code",
   "execution_count": 5,
   "metadata": {},
   "outputs": [
    {
     "name": "stdout",
     "output_type": "stream",
     "text": [
      "0.383221308881\n"
     ]
    }
   ],
   "source": [
    "# final calculation and create output file with prediction\n",
    "random_forest = ensemble.RandomForestRegressor(n_estimators=50, max_depth=7, random_state=0)\n",
    "model = ensemble.BaggingRegressor(random_forest, 50, random_state=0)\n",
    "\n",
    "model.fit(X_train, y_train)\n",
    "\n",
    "# calc mean_absolute_error for train set\n",
    "res = 0\n",
    "data2 = model.predict(X_train)\n",
    "for i in range(len(data2)): # for linear models\n",
    "    data2[i] = min(max(1.0, data2[i]), 3.0)\n",
    "   \n",
    "for i in range(len(y_train)):\n",
    "    res += abs(y_train[i] - data2[i])\n",
    "\n",
    "print res / len(y_train)\n",
    "#\n",
    "\n",
    "data = model.predict(X_test)\n",
    "for i in range(len(data)): # for linear models\n",
    "    data[i] = min(max(1.0, data[i]), 3.0)\n",
    "\n",
    "output = pd.DataFrame({'id': test.id, 'relevance': data}).set_index('id')\n",
    "\n",
    "output.to_csv('output.csv', sep=',')"
   ]
  }
 ],
 "metadata": {
  "kernelspec": {
   "display_name": "Python 2",
   "language": "python",
   "name": "python2"
  },
  "language_info": {
   "codemirror_mode": {
    "name": "ipython",
    "version": 2.0
   },
   "file_extension": ".py",
   "mimetype": "text/x-python",
   "name": "python",
   "nbconvert_exporter": "python",
   "pygments_lexer": "ipython2",
   "version": "2.7.6"
  }
 },
 "nbformat": 4,
 "nbformat_minor": 0
}